{
 "cells": [
  {
   "cell_type": "markdown",
   "id": "b6fcd3f3-d97b-49ea-ab8a-981eca5635c2",
   "metadata": {},
   "source": [
    "# Random Forest progression prediction on exome sequencing"
   ]
  },
  {
   "cell_type": "code",
   "execution_count": 25,
   "id": "bb36dfa8-4ef9-445e-9ded-c51214a5c2b9",
   "metadata": {},
   "outputs": [],
   "source": [
    "# importing useful package\n",
    "import pandas as pd\n",
    "import numpy as np\n",
    "from matplotlib import pyplot as plt\n",
    "import pickle \n",
    "import random\n",
    "\n",
    "\n",
    "\n",
    "from sklearn.ensemble import RandomForestClassifier,ExtraTreesRegressor\n",
    "from sklearn.experimental import enable_iterative_imputer\n",
    "from sklearn.impute import IterativeImputer\n",
    "\n",
    "import preprocessing"
   ]
  },
  {
   "cell_type": "markdown",
   "id": "8274f971-3bbd-4c0c-86e2-90ef92cde300",
   "metadata": {},
   "source": [
    "## Training a model on our data"
   ]
  },
  {
   "cell_type": "code",
   "execution_count": 34,
   "id": "0ad9c235-0333-4cd3-96cf-292497f0a38a",
   "metadata": {},
   "outputs": [
    {
     "name": "stderr",
     "output_type": "stream",
     "text": [
      "/tmp/ipykernel_114152/4215150855.py:31: FutureWarning: The series.append method is deprecated and will be removed from pandas in a future version. Use pandas.concat instead.\n",
      "  dt_tree_NIPICOL = dt_tree_NIPICOL[dt_tree_NIPICOL.columns.intersection(lowNA['hg38chridNIPICOLformat'].append(pd.Series(['Cohort','ipfs','ipfsev'])))]\n",
      "/home/aurelien/anaconda3/lib/python3.8/site-packages/sklearn/impute/_iterative.py:699: ConvergenceWarning: [IterativeImputer] Early stopping criterion not reached.\n",
      "  warnings.warn(\n",
      "/tmp/ipykernel_114152/4215150855.py:47: FutureWarning: Passing a set as an indexer is deprecated and will raise in a future version. Use a list instead.\n",
      "  dt_tree = dt_tree_ImmunoMSI[shared_features_ipfs].append(dt_tree_NIPICOL[shared_features_ipfs])\n",
      "/tmp/ipykernel_114152/4215150855.py:47: FutureWarning: Passing a set as an indexer is deprecated and will raise in a future version. Use a list instead.\n",
      "  dt_tree = dt_tree_ImmunoMSI[shared_features_ipfs].append(dt_tree_NIPICOL[shared_features_ipfs])\n",
      "/tmp/ipykernel_114152/4215150855.py:47: FutureWarning: The frame.append method is deprecated and will be removed from pandas in a future version. Use pandas.concat instead.\n",
      "  dt_tree = dt_tree_ImmunoMSI[shared_features_ipfs].append(dt_tree_NIPICOL[shared_features_ipfs])\n",
      "/tmp/ipykernel_114152/4215150855.py:53: FutureWarning: Passing a set as an indexer is deprecated and will raise in a future version. Use a list instead.\n",
      "  X_train = X_train[shared_features]\n",
      "/tmp/ipykernel_114152/4215150855.py:54: FutureWarning: Passing a set as an indexer is deprecated and will raise in a future version. Use a list instead.\n",
      "  X_test = X_test[shared_features]\n",
      "/tmp/ipykernel_114152/4215150855.py:55: FutureWarning: Passing a set as an indexer is deprecated and will raise in a future version. Use a list instead.\n",
      "  X = dt_tree[shared_features]\n"
     ]
    }
   ],
   "source": [
    "All_MS = pd.read_csv(\"WES_wide_NAfrequency.csv\")\n",
    "\n",
    "\n",
    "\n",
    "dt_predict = pd.read_csv('mutation_profile_pval05.txt', sep=\"\\t\",usecols=['Row.names','Cohort',\"ipfs\",\"ipfsev\"])\n",
    "dt_predict.index = dt_predict['Row.names']\n",
    "\n",
    "prefilt_thr = filtcoefNA = 0.05\n",
    "prefilt = \"NA\"\n",
    "\n",
    "dt = pd.read_csv('./mutation_profile_pval05.txt', sep=\"\\t\")\n",
    "dt.index = dt['Row.names']\n",
    "\n",
    "# Only keep MS and ipfs\n",
    "dt = dt.filter(regex='chr|ipfs|Cohort')\n",
    "\n",
    "# Creating the time and event columns\n",
    "time_column = 'ipfs'\n",
    "event_column = 'ipfsev'\n",
    "\n",
    "\n",
    "### Filtering of MS and imputation #####\n",
    "\n",
    "# on Nipicol : filterout NA and impute\n",
    "dt_tree_NIPICOL,features_NIPICOL = preprocessing.clean_NA_duplicate_input(dt[dt['Cohort']=='NIPICOL'],filtcoef=filtcoefNA)\n",
    "\n",
    "\n",
    "lowNA = All_MS[All_MS['NaFreq']<prefilt_thr]\n",
    "\n",
    "# filter out MS usually miss covered on other cohortes\n",
    "dt_tree_NIPICOL = dt_tree_NIPICOL[dt_tree_NIPICOL.columns.intersection(lowNA['hg38chridNIPICOLformat'].append(pd.Series(['Cohort','ipfs','ipfsev'])))]\n",
    "\n",
    "#keep only nipicol chrid\n",
    "dt_tree_ImmunoMSI = dt[dt_tree_NIPICOL.columns]\n",
    "#impute missing data on ImmunoMSI\n",
    "dt_tree_ImmunoMSI,features_ImmunoMSI = preprocessing.clean_NA_duplicate_input(dt_tree_ImmunoMSI[dt_tree_ImmunoMSI['Cohort']=='RICKI'],filtcoef=1)\n",
    "\n",
    "\n",
    "# intersection of NIPICOL and ImmunoMSI to keep only shared position after filtering and imputation\n",
    "shared_features = set(features_ImmunoMSI).intersection(set(features_NIPICOL))\n",
    "shared_features_ipfs = shared_features.union({time_column,event_column,'Cohort'})\n",
    "        \n",
    "\n",
    "ipfs_cohorte = dt[['ipfs','ipfsev','Cohort']]\n",
    "\n",
    "\n",
    "dt_tree = dt_tree_ImmunoMSI[shared_features_ipfs].append(dt_tree_NIPICOL[shared_features_ipfs])\n",
    "\n",
    "# resample Nipicol cohorte             \n",
    "X_train, E_train, X_test, E_test = preprocessing.upsampling(dt_tree,1000)\n",
    "   \n",
    "# Making sure features are in the same order\n",
    "X_train = X_train[shared_features]\n",
    "X_test = X_test[shared_features]\n",
    "X = dt_tree[shared_features]\n",
    "\n",
    "### Random Forest ####\n",
    "clf_forest = RandomForestClassifier( n_estimators=2000, max_features=1)\n",
    "clf_forest.fit(X_train,E_train.astype(int))\n",
    "\n",
    "# save the model to disk\n",
    "# NB the random state of the model presented in the article was not fixed which may explain difference at the end. A version of it is saved under the name RFclassifier.sav and can be load\n",
    "filename = './New_RFclassifier.sav'\n",
    "pickle.dump(clf_forest, open(filename, 'wb'))\n",
    "\n",
    "\n",
    "dt_predict['RF_prediction'] = pd.DataFrame(clf_forest.predict_proba(X),index=X.index)[1]\n",
    "\n",
    "\n",
    "dt_predict.to_csv('./predicted_risks.csv')"
   ]
  },
  {
   "cell_type": "markdown",
   "id": "55b2fb7e-5a18-4143-825f-81e57b872402",
   "metadata": {},
   "source": [
    "## Model validation using Cox"
   ]
  },
  {
   "cell_type": "code",
   "execution_count": 39,
   "id": "afbfc2ed-1d04-4690-825f-750a250d86cf",
   "metadata": {},
   "outputs": [
    {
     "data": {
      "text/plain": [
       "<lifelines.CoxPHFitter: fitted with 66 total observations, 54 right-censored observations>"
      ]
     },
     "execution_count": 39,
     "metadata": {},
     "output_type": "execute_result"
    }
   ],
   "source": [
    "from lifelines import CoxPHFitter\n",
    "import math\n",
    "\n",
    "import kaplanmeier as km\n",
    "\n",
    "time_col = \"ipfs\"\n",
    "event_col = 'ipfsev'\n",
    "\n",
    "cph = CoxPHFitter()\n",
    "cph.fit(dt_predict[dt_predict[\"Cohort\"]==\"RICKI\"][['RF_prediction',time_col,event_col]],time_col, event_col=event_col)"
   ]
  },
  {
   "cell_type": "code",
   "execution_count": 41,
   "id": "fd66ebfd-0464-4107-884d-27785c7705e6",
   "metadata": {},
   "outputs": [
    {
     "data": {
      "text/html": [
       "<div>\n",
       "<style scoped>\n",
       "    .dataframe tbody tr th:only-of-type {\n",
       "        vertical-align: middle;\n",
       "    }\n",
       "\n",
       "    .dataframe tbody tr th {\n",
       "        vertical-align: top;\n",
       "    }\n",
       "\n",
       "    .dataframe thead th {\n",
       "        text-align: right;\n",
       "    }\n",
       "</style>\n",
       "<table border=\"1\" class=\"dataframe\">\n",
       "  <thead>\n",
       "    <tr style=\"text-align: right;\">\n",
       "      <th></th>\n",
       "      <th>coef</th>\n",
       "      <th>exp(coef)</th>\n",
       "      <th>se(coef)</th>\n",
       "      <th>coef lower 95%</th>\n",
       "      <th>coef upper 95%</th>\n",
       "      <th>exp(coef) lower 95%</th>\n",
       "      <th>exp(coef) upper 95%</th>\n",
       "      <th>z</th>\n",
       "      <th>p</th>\n",
       "      <th>-log2(p)</th>\n",
       "    </tr>\n",
       "    <tr>\n",
       "      <th>covariate</th>\n",
       "      <th></th>\n",
       "      <th></th>\n",
       "      <th></th>\n",
       "      <th></th>\n",
       "      <th></th>\n",
       "      <th></th>\n",
       "      <th></th>\n",
       "      <th></th>\n",
       "      <th></th>\n",
       "      <th></th>\n",
       "    </tr>\n",
       "  </thead>\n",
       "  <tbody>\n",
       "    <tr>\n",
       "      <th>RF_prediction</th>\n",
       "      <td>8.031809</td>\n",
       "      <td>3077.302378</td>\n",
       "      <td>2.347655</td>\n",
       "      <td>3.43049</td>\n",
       "      <td>12.633128</td>\n",
       "      <td>30.891765</td>\n",
       "      <td>306547.394314</td>\n",
       "      <td>3.421205</td>\n",
       "      <td>0.000623</td>\n",
       "      <td>10.647454</td>\n",
       "    </tr>\n",
       "  </tbody>\n",
       "</table>\n",
       "</div>"
      ],
      "text/plain": [
       "                   coef    exp(coef)  se(coef)  coef lower 95%  \\\n",
       "covariate                                                        \n",
       "RF_prediction  8.031809  3077.302378  2.347655         3.43049   \n",
       "\n",
       "               coef upper 95%  exp(coef) lower 95%  exp(coef) upper 95%  \\\n",
       "covariate                                                                 \n",
       "RF_prediction       12.633128            30.891765        306547.394314   \n",
       "\n",
       "                      z         p   -log2(p)  \n",
       "covariate                                     \n",
       "RF_prediction  3.421205  0.000623  10.647454  "
      ]
     },
     "execution_count": 41,
     "metadata": {},
     "output_type": "execute_result"
    }
   ],
   "source": [
    "cph.summary"
   ]
  },
  {
   "cell_type": "code",
   "execution_count": null,
   "id": "899447e9-92bb-418f-b566-ae47f16d4a5b",
   "metadata": {},
   "outputs": [],
   "source": []
  }
 ],
 "metadata": {
  "kernelspec": {
   "display_name": "Python 3 (ipykernel)",
   "language": "python",
   "name": "python3"
  },
  "language_info": {
   "codemirror_mode": {
    "name": "ipython",
    "version": 3
   },
   "file_extension": ".py",
   "mimetype": "text/x-python",
   "name": "python",
   "nbconvert_exporter": "python",
   "pygments_lexer": "ipython3",
   "version": "3.8.12"
  }
 },
 "nbformat": 4,
 "nbformat_minor": 5
}

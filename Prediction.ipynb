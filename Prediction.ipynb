{
 "cells": [
  {
   "cell_type": "code",
   "execution_count": null,
   "id": "a42ce1d1-b45e-4ce1-899d-da29fc85c3cb",
   "metadata": {},
   "outputs": [],
   "source": [
    "# importing useful package\n",
    "import pandas as pd\n",
    "import pickle \n",
    "import preprocessing"
   ]
  },
  {
   "cell_type": "code",
   "execution_count": null,
   "id": "9cb4abc8-c197-4f16-92d7-4aaf693e769b",
   "metadata": {},
   "outputs": [],
   "source": [
    "### loading the predictor\n",
    "loaded_model = pickle.load(open('/home/aurelien/Workspace/Toky/RICKI/RandomForest/For_paper//classifier/random_forest_NoLimit_NA0.05_homogene_upsampled_significatif.sav', 'rb'))\n"
   ]
  },
  {
   "cell_type": "code",
   "execution_count": 6,
   "id": "edf32167-9199-43fe-bdf2-612dc0ba93cb",
   "metadata": {},
   "outputs": [
    {
     "name": "stdout",
     "output_type": "stream",
     "text": [
      "Microsatellite to inspect in your data\n"
     ]
    },
    {
     "data": {
      "text/plain": [
       "array(['chr10.22318940.T.8', 'chr15.65388901.G.7', 'chr15.27955158.T.7',\n",
       "       'chr15.30959130.A.10', 'chr17.28132599.T.9', 'chr4.76384668.A.9',\n",
       "       'chr5.179723787.T.11', 'chr17.58370936.G.6', 'chr17.75518974.T.12',\n",
       "       'chr2.236486815.A.8', 'chr4.183641472.A.8', 'chr1.172600036.A.9',\n",
       "       'chr6.54160727.T.9', 'chr2.108906291.T.8', 'chr1.25448883.T.8',\n",
       "       'chr2.178598719.A.8', 'chr19.6908664.T.13', 'chr10.102145006.C.8',\n",
       "       'chr1.235663082.A.13'], dtype=object)"
      ]
     },
     "execution_count": 6,
     "metadata": {},
     "output_type": "execute_result"
    }
   ],
   "source": [
    "print(\"Microsatellite to inspect in your data\")\n",
    "loaded_model.feature_names_in_"
   ]
  },
  {
   "cell_type": "code",
   "execution_count": 23,
   "id": "8414db64-bd46-45d9-a919-c352193a2df7",
   "metadata": {
    "tags": []
   },
   "outputs": [],
   "source": [
    "### open a dataframe with columns names == chromosome id (chr:position)\n",
    "### and with rownames == patient id\n",
    "\n",
    "dt_mutations = pd.read_table(\"./mutation_profile.txt\",index_col=1)\n",
    "dt_mutations = dt_mutations[loaded_model.feature_names_in_]"
   ]
  },
  {
   "cell_type": "code",
   "execution_count": 24,
   "id": "b93d39eb-b406-4f3f-8dc6-3688d30b2ec8",
   "metadata": {},
   "outputs": [],
   "source": [
    "from sklearn.experimental import enable_iterative_imputer\n",
    "from sklearn.impute import IterativeImputer\n",
    "from sklearn.ensemble import ExtraTreesRegressor\n",
    "\n",
    "### preprocessing\n",
    "# imputation of the datas with ExtraTreeRegressor\n",
    "imp_tree = IterativeImputer(random_state=0,estimator=ExtraTreesRegressor(n_estimators=10, random_state=0))\n",
    "\n",
    "dt_mutations= pd.DataFrame(imp_tree.fit_transform(dt_mutations),columns=dt_mutations.columns,index=dt_mutations.index)"
   ]
  },
  {
   "cell_type": "code",
   "execution_count": 25,
   "id": "ec35c6ad-cc6f-43be-b899-c8a5d084fc4f",
   "metadata": {},
   "outputs": [],
   "source": [
    "### prediction\n",
    "\n",
    "risk_score = pd.DataFrame(loaded_model.predict_proba(dt_mutations),index=dt_mutations.index)[1]\n",
    "### Patient with risk_score >"
   ]
  },
  {
   "cell_type": "code",
   "execution_count": 26,
   "id": "26d93d2d-cc8a-4d05-ad26-1c539de7d062",
   "metadata": {},
   "outputs": [
    {
     "data": {
      "text/plain": [
       "RICKI-001T    0.1655\n",
       "RICKI-003T    0.0300\n",
       "RICKI-005T    0.0000\n",
       "RICKI-006T    0.0000\n",
       "RICKI-007T    0.4185\n",
       "               ...  \n",
       "RICKI-080T    0.0000\n",
       "RICKI-081T    0.1425\n",
       "RICKI-082T    0.0000\n",
       "RICKI-083T    0.0535\n",
       "RICKI-084T    0.0345\n",
       "Name: 1, Length: 66, dtype: float64"
      ]
     },
     "execution_count": 26,
     "metadata": {},
     "output_type": "execute_result"
    }
   ],
   "source": [
    "risk_score"
   ]
  },
  {
   "cell_type": "code",
   "execution_count": null,
   "id": "c601115c-3f84-48ea-a776-88649bd751f3",
   "metadata": {},
   "outputs": [],
   "source": []
  }
 ],
 "metadata": {
  "kernelspec": {
   "display_name": "PythonRICI",
   "language": "python",
   "name": "py3rici"
  },
  "language_info": {
   "codemirror_mode": {
    "name": "ipython",
    "version": 3
   },
   "file_extension": ".py",
   "mimetype": "text/x-python",
   "name": "python",
   "nbconvert_exporter": "python",
   "pygments_lexer": "ipython3",
   "version": "3.8.12"
  }
 },
 "nbformat": 4,
 "nbformat_minor": 5
}

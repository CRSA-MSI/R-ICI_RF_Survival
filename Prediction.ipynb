{
 "cells": [
  {
   "cell_type": "code",
   "execution_count": null,
   "id": "a42ce1d1-b45e-4ce1-899d-da29fc85c3cb",
   "metadata": {},
   "outputs": [],
   "source": [
    "# importing useful package\n",
    "import pandas as pd\n",
    "\n",
    "import pickle \n",
    "\n",
    "import preprocessing"
   ]
  }
 ],
 "metadata": {
  "kernelspec": {
   "display_name": "Python 3 (ipykernel)",
   "language": "python",
   "name": "python3"
  },
  "language_info": {
   "codemirror_mode": {
    "name": "ipython",
    "version": 3
   },
   "file_extension": ".py",
   "mimetype": "text/x-python",
   "name": "python",
   "nbconvert_exporter": "python",
   "pygments_lexer": "ipython3",
   "version": "3.8.12"
  }
 },
 "nbformat": 4,
 "nbformat_minor": 5
}
